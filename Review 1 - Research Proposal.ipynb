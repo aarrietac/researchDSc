{
 "metadata": {
  "name": "",
  "signature": "sha256:375a79ff3da272430236b6a580c222d0fc582cd4545eda4d4eba2dd9e03004ca"
 },
 "nbformat": 3,
 "nbformat_minor": 0,
 "worksheets": [
  {
   "cells": [
    {
     "cell_type": "heading",
     "level": 6,
     "metadata": {},
     "source": [
      "A.C. Abel and I.W. Hans. Pontifical Catholic University of Rio de Janeiro"
     ]
    },
    {
     "cell_type": "heading",
     "level": 1,
     "metadata": {},
     "source": [
      "First review for the Research Proposal"
     ]
    },
    {
     "cell_type": "markdown",
     "metadata": {},
     "source": [
      "This is a review of the thesis entitled: \"Torsional and Lateral Vibrations in Flexible Rotor Systems with Friction\". In this review, we focus in Chapter 3, because here is modeled the drill-string system well as the description of the experimental set-up."
     ]
    },
    {
     "cell_type": "heading",
     "level": 2,
     "metadata": {},
     "source": [
      "Friction Modelling"
     ]
    },
    {
     "cell_type": "markdown",
     "metadata": {},
     "source": [
      "The friction model with the Stribeck effect (Figure 1) is used, because this model included negative damping and this feature is crucial for the prediction of torsional vibration."
     ]
    },
    {
     "cell_type": "markdown",
     "metadata": {},
     "source": [
      "![Image](./figures/stribeck.png)\n",
      "####Figure 1. Friction model with Stribeck effect."
     ]
    },
    {
     "cell_type": "markdown",
     "metadata": {},
     "source": [
      "The model for the friction is:\n",
      "\n",
      "$$\n",
      "F_{f}(v_{r})\\in\\left\\{ \\begin{array}{ccc}\n",
      "F_{c}(v_{r})sgn(v_{r}) & \\text{for} & v_{r}\\neq0\\\\\n",
      "min(|F_{e}|,F_{s})sgn(F_{e}) & \\text{for} & v_{r}=0\n",
      "\\end{array}\\right.\n",
      "$$\n",
      "\n",
      "where $F_{e}$ is the external force, $F_{c}$ the Coulumb friction force, $F_{s}$ the break-away friction force and $v_{r}$ the relative velocity between two contacting surfaces.\n",
      "\n",
      "For the mathematical expression of $F_{c}(v_r)$ the author use a neural network model [Mihajlovi\u0107 et al., 2004a,b]:\n",
      "\n",
      "$$\n",
      "F_{c}(v_{r})=T_{s}+\\sum_{i=1}^{n}T_{i}\\left(1-\\frac{2}{1+e^{2\\omega_{i}v_{r}}}\\right)+b_{v}|v_{r}|\n",
      "$$\n",
      "\n",
      "where $n$ is a number of nodes of the neural network, $T_{s}$, $T_{i}$ and $\\omega_{i}$ are additional parameters of the friction model."
     ]
    },
    {
     "cell_type": "heading",
     "level": 2,
     "metadata": {},
     "source": [
      "Model of the DC Motor"
     ]
    },
    {
     "cell_type": "markdown",
     "metadata": {},
     "source": [
      "DC Motor, Gear-box, Encoder (Incremental encoder) and upper steel disc together represent the upper part of the Set-Up. The Figure 2 is a 3D model of a DC Motor (Maxon) with gear-box, motor and encoder."
     ]
    },
    {
     "cell_type": "markdown",
     "metadata": {},
     "source": [
      "![Image](./figures/maxon_motor.jpg)\n",
      "####Figure 2. Real motor (Maxon EC Motor)."
     ]
    },
    {
     "cell_type": "markdown",
     "metadata": {},
     "source": [
      "In Figure 3, we show the schematic representation of the upper part of the set-up. In the schematic model we have two parts, the electromangnetic subsystem and the mechanical subsystem. The electromagnetic subsystem is composed of a power amplifier and a motor; and the mechanical part for gear-box (reduction ratio $n=3969/289$) and the upper disc. "
     ]
    },
    {
     "cell_type": "markdown",
     "metadata": {},
     "source": [
      "![Image](./figures/DCModel.png)\n",
      "####Figure 3. Schematic representation of the upper part of the Set-Up."
     ]
    },
    {
     "cell_type": "markdown",
     "metadata": {},
     "source": [
      "The author models the upper part of the set-up by the following differential equations:\n",
      "\n",
      "\\begin{eqnarray*}\n",
      "au & = & L_{r}\\dot{\\imath}_{r}+(R_{i}+R_{r})\\imath_{r}+n\\dot{\\theta}_{u}k_{em}\\\\\n",
      "J_{u}\\ddot{\\theta}_{u} & = & -T_{fm}(\\dot{\\theta}_{u})+n\\tau\n",
      "\\end{eqnarray*}\n",
      "\n",
      "where, $\\tau=k_{me}\\imath_r$ (torque induced by the motor), $d\\imath/dt=\\dot{\\imath}$ (rotor current) and $R_{i}$ the output resistance os the power amplifier. The first equation models the electromagnetic susbsystem and the second the mechanical subsystem. The others parameters are defined in Table 1."
     ]
    },
    {
     "cell_type": "markdown",
     "metadata": {},
     "source": [
      "####Table 1: Parameters of the upper part model.\n",
      "![Image](./figures/table1.png)"
     ]
    },
    {
     "cell_type": "markdown",
     "metadata": {},
     "source": [
      "The author states that \"the electrical part of the system has a much faster dynamics than the mechanical part\" and for that $L_{r}=0$. This is an interesting fact, so we can say that the dynamics of the upper part of the Set-Up is decoupled from the dynamics of the DC Motor.\n",
      "\n",
      "Then, the model of the upper part of the Set-Up is:\n",
      "\n",
      "$$\n",
      "J_{u}\\ddot{\\theta}_{u}+T_{fu}(\\dot{\\theta}_{u})=k_{m}u\n",
      "$$\n",
      "\n",
      "with:\n",
      "\n",
      "\\begin{eqnarray*}\n",
      "T_{fu}(\\dot{\\theta}_{u}) & = & \\frac{n^{2}k_{em}k_{me}}{R_{i}+R_{r}}\\dot{\\theta}_{u}+T_{fm}(\\dot{\\theta}_{u})\\\\\n",
      "k_{m} & = & \\frac{ank_{me}}{R_{i}+R_{r}}\n",
      "\\end{eqnarray*}"
     ]
    },
    {
     "cell_type": "heading",
     "level": 2,
     "metadata": {},
     "source": [
      "The Full Model of the Set-Up"
     ]
    },
    {
     "cell_type": "markdown",
     "metadata": {},
     "source": [
      "For the full model of the Set-Up the author use Euler-Lagrange method:\n",
      "\n",
      "$$\n",
      "\\frac{d}{dt}\\left(\\frac{\\partial T(q,\\dot{q})}{\\partial\\dot{q}}\\right)-\\frac{\\partial T(q,\\dot{q})}{\\partial q}+\\frac{\\partial V(q)}{\\partial q}=\\left(Q^{nc}\\right)^{T}\n",
      "$$\n",
      "\n",
      "where: $T(q,\\dot{q})$ is the kinetic energy of the system, $V(q)$ is the potencial energy of the system, $Q^{nc}$ is the generalized non-conservative forces and $q$ is the generalized coordinate. In this thesis, the generalized coordinates (uses for description of the system) are: $\\theta_{u}$ the angular position of the upper disc, $x$ the lateral x-position of the lower disc, $y$ the lateral y-position of the lower disc and $\\alpha$ the difference between the angular postion of the lower and the upper disc ($\\theta_l - \\theta_u$). But, the generalized coordinate is defined for a coordinate frame, for this modelling the author uses two coordinates frames: a Co-rotating coordinate frame $\\{O,\\vec{e}\\}$ which rotate with the upper disc and the Fixed coordinate frame $\\{O,\\vec{e}^{\\,0}\\}$ as shown in Figure 4."
     ]
    },
    {
     "cell_type": "markdown",
     "metadata": {},
     "source": [
      "![Image](./figures/cframes.png)\n",
      "####Figure 4. Coordinate frames used for the modelling of the Set-Up."
     ]
    },
    {
     "cell_type": "markdown",
     "metadata": {},
     "source": [
      "The kinetic energy is composed of three parts: kinetic energy of the upper disc - $T_{u}(q,\\dot{q})$, kinetic energy of the mass $m_r$ (the mass which rotates around the geometric center of the lower disc) - $T_{mr}(q,\\dot{q})$ and the kinetic energy of the mass $m_t$ (mass which cannot rotate around the center of the lower disc, but only translates with the lower disc, i.e, upper bearing housing, the brake, encoder at the lower disc) - $T_{mt}(q,\\dot{q})$."
     ]
    },
    {
     "cell_type": "code",
     "collapsed": false,
     "input": [
      "from IPython.core.display import HTML\n",
      "css_file = './styles/numericalmoocstyle.css'\n",
      "HTML(open(css_file, \"r\").read())"
     ],
     "language": "python",
     "metadata": {},
     "outputs": [
      {
       "html": [
        "<link href='http://fonts.googleapis.com/css?family=Alegreya+Sans:100,300,400,500,700,800,900,100italic,300italic,400italic,500italic,700italic,800italic,900italic' rel='stylesheet' type='text/css'>\n",
        "<link href='http://fonts.googleapis.com/css?family=Arvo:400,700,400italic' rel='stylesheet' type='text/css'>\n",
        "<link href='http://fonts.googleapis.com/css?family=PT+Mono' rel='stylesheet' type='text/css'>\n",
        "<link href='http://fonts.googleapis.com/css?family=Shadows+Into+Light' rel='stylesheet' type='text/css'>\n",
        "<link href='http://fonts.googleapis.com/css?family=Nixie+One' rel='stylesheet' type='text/css'>\n",
        "<style>\n",
        "\n",
        "@font-face {\n",
        "    font-family: \"Computer Modern\";\n",
        "    src: url('http://mirrors.ctan.org/fonts/cm-unicode/fonts/otf/cmunss.otf');\n",
        "}\n",
        "\n",
        "#notebook_panel { /* main background */\n",
        "    background: rgb(245,245,245);\n",
        "}\n",
        "\n",
        "div.cell { /* set cell width */\n",
        "    width: 750px;\n",
        "}\n",
        "\n",
        "div #notebook { /* centre the content */\n",
        "    background: #fff; /* white background for content */\n",
        "    width: 1000px;\n",
        "    margin: auto;\n",
        "    padding-left: 0em;\n",
        "}\n",
        "\n",
        "#notebook li { /* More space between bullet points */\n",
        "margin-top:0.8em;\n",
        "}\n",
        "\n",
        "/* draw border around running cells */\n",
        "div.cell.border-box-sizing.code_cell.running { \n",
        "    border: 1px solid #111;\n",
        "}\n",
        "\n",
        "/* Put a solid color box around each cell and its output, visually linking them*/\n",
        "div.cell.code_cell {\n",
        "    background-color: rgb(256,256,256); \n",
        "    border-radius: 0px; \n",
        "    padding: 0.5em;\n",
        "    margin-left:1em;\n",
        "    margin-top: 1em;\n",
        "}\n",
        "\n",
        "div.text_cell_render{\n",
        "    font-family: 'Alegreya Sans' sans-serif;\n",
        "    line-height: 140%;\n",
        "    font-size: 125%;\n",
        "    font-weight: 400;\n",
        "    width:600px;\n",
        "    margin-left:auto;\n",
        "    margin-right:auto;\n",
        "}\n",
        "\n",
        "\n",
        "/* Formatting for header cells */\n",
        ".text_cell_render h1 {\n",
        "    font-family: 'Nixie One', serif;\n",
        "    font-style:regular;\n",
        "    font-weight: 400;    \n",
        "    font-size: 45pt;\n",
        "    line-height: 100%;\n",
        "    color: rgb(0,51,102);\n",
        "    margin-bottom: 0.5em;\n",
        "    margin-top: 0.5em;\n",
        "    display: block;\n",
        "}\t\n",
        ".text_cell_render h2 {\n",
        "    font-family: 'Nixie One', serif;\n",
        "    font-weight: 400;\n",
        "    font-size: 30pt;\n",
        "    line-height: 100%;\n",
        "    color: rgb(0,51,102);\n",
        "    margin-bottom: 0.1em;\n",
        "    margin-top: 0.3em;\n",
        "    display: block;\n",
        "}\t\n",
        "\n",
        ".text_cell_render h3 {\n",
        "    font-family: 'Nixie One', serif;\n",
        "    margin-top:16px;\n",
        "\tfont-size: 22pt;\n",
        "    font-weight: 600;\n",
        "    margin-bottom: 3px;\n",
        "    font-style: regular;\n",
        "    color: rgb(102,102,0);\n",
        "}\n",
        "\n",
        ".text_cell_render h4 {    /*Use this for captions*/\n",
        "    font-family: 'Nixie One', serif;\n",
        "    font-size: 14pt;\n",
        "    text-align: center;\n",
        "    margin-top: 0em;\n",
        "    margin-bottom: 2em;\n",
        "    font-style: regular;\n",
        "}\n",
        "\n",
        ".text_cell_render h5 {  /*Use this for small titles*/\n",
        "    font-family: 'Nixie One', sans-serif;\n",
        "    font-weight: 400;\n",
        "    font-size: 16pt;\n",
        "    color: rgb(163,0,0);\n",
        "    font-style: italic;\n",
        "    margin-bottom: .1em;\n",
        "    margin-top: 0.8em;\n",
        "    display: block;\n",
        "}\n",
        "\n",
        ".text_cell_render h6 { /*use this for copyright note*/\n",
        "    font-family: 'PT Mono', sans-serif;\n",
        "    font-weight: 300;\n",
        "    font-size: 9pt;\n",
        "    line-height: 100%;\n",
        "    color: grey;\n",
        "    margin-bottom: 1px;\n",
        "    margin-top: 1px;\n",
        "}\n",
        "\n",
        ".CodeMirror{\n",
        "        font-family: \"PT Mono\";\n",
        "        font-size: 90%;\n",
        "}\n",
        "\n",
        "</style>\n",
        "<script>\n",
        "    MathJax.Hub.Config({\n",
        "                        TeX: {\n",
        "                           extensions: [\"AMSmath.js\"],\n",
        "                           equationNumbers: { autoNumber: \"AMS\", useLabelIds: true}\n",
        "                           },\n",
        "                tex2jax: {\n",
        "                    inlineMath: [ ['$','$'], [\"\\\\(\",\"\\\\)\"] ],\n",
        "                    displayMath: [ ['$$','$$'], [\"\\\\[\",\"\\\\]\"] ]\n",
        "                },\n",
        "                displayAlign: 'center', // Change this to 'center' to center equations.\n",
        "                \"HTML-CSS\": {\n",
        "                    styles: {'.MathJax_Display': {\"margin\": 4}}\n",
        "                }\n",
        "        });\n",
        "</script>\n"
       ],
       "metadata": {},
       "output_type": "pyout",
       "prompt_number": 1,
       "text": [
        "<IPython.core.display.HTML at 0x7f17d09d5f50>"
       ]
      }
     ],
     "prompt_number": 1
    }
   ],
   "metadata": {}
  }
 ]
}